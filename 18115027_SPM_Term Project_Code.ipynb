{
 "cells": [
  {
   "cell_type": "code",
   "execution_count": 2,
   "metadata": {},
   "outputs": [
    {
     "name": "stdout",
     "output_type": "stream",
     "text": [
      "Name - Duleshwar Kumar Verma\n",
      "Roll No. - 18115027\n"
     ]
    }
   ],
   "source": [
    "print(\"Name - Duleshwar Kumar Verma\")\n",
    "print(\"Roll No. - 18115027\")\n",
    "\n",
    "#Load Libraries\n",
    "import pandas as pd\n",
    "import numpy as np\n",
    "import seaborn as sns\n",
    "import matplotlib.pyplot as plt\n",
    "%matplotlib inline\n",
    "from sklearn.preprocessing import Normalizer\n",
    "from sklearn.model_selection import train_test_split\n",
    "\n",
    "from pandas.plotting import scatter_matrix"
   ]
  },
  {
   "cell_type": "code",
   "execution_count": 2,
   "metadata": {},
   "outputs": [],
   "source": [
    "# load dataset\n",
    "df = pd.read_csv(\"Detection.csv\")"
   ]
  },
  {
   "cell_type": "code",
   "execution_count": 3,
   "metadata": {},
   "outputs": [
    {
     "name": "stdout",
     "output_type": "stream",
     "text": [
      "(6995, 6)\n",
      "Index(['Computer Time', 'Time (Milli Sec.)', 'GSR', 'BPM', 'Temperature',\n",
      "       'EMOTIONAL AFFIRM'],\n",
      "      dtype='object')\n"
     ]
    }
   ],
   "source": [
    "#shape\n",
    "print(df.shape)\n",
    "print(df.columns)"
   ]
  },
  {
   "cell_type": "code",
   "execution_count": 4,
   "metadata": {},
   "outputs": [
    {
     "data": {
      "text/plain": [
       "Computer Time        13\n",
       "Time (Milli Sec.)    13\n",
       "GSR                  13\n",
       "BPM                  13\n",
       "Temperature          13\n",
       "EMOTIONAL AFFIRM     13\n",
       "dtype: int64"
      ]
     },
     "execution_count": 4,
     "metadata": {},
     "output_type": "execute_result"
    }
   ],
   "source": [
    "#Checking for Null(NaN) values\n",
    "df.isnull().sum()"
   ]
  },
  {
   "cell_type": "code",
   "execution_count": 5,
   "metadata": {},
   "outputs": [
    {
     "data": {
      "text/plain": [
       "Computer Time        0\n",
       "Time (Milli Sec.)    0\n",
       "GSR                  0\n",
       "BPM                  0\n",
       "Temperature          0\n",
       "EMOTIONAL AFFIRM     0\n",
       "dtype: int64"
      ]
     },
     "execution_count": 5,
     "metadata": {},
     "output_type": "execute_result"
    }
   ],
   "source": [
    "df.dropna(inplace=True)\n",
    "df.isnull().sum()"
   ]
  },
  {
   "cell_type": "code",
   "execution_count": 6,
   "metadata": {},
   "outputs": [
    {
     "name": "stdout",
     "output_type": "stream",
     "text": [
      "Computer Time         object\n",
      "Time (Milli Sec.)    float64\n",
      "GSR                  float64\n",
      "BPM                  float64\n",
      "Temperature          float64\n",
      "EMOTIONAL AFFIRM      object\n",
      "dtype: object\n"
     ]
    }
   ],
   "source": [
    "#types\n",
    "print(df.dtypes)"
   ]
  },
  {
   "cell_type": "code",
   "execution_count": 7,
   "metadata": {},
   "outputs": [
    {
     "data": {
      "text/html": [
       "<div>\n",
       "<style scoped>\n",
       "    .dataframe tbody tr th:only-of-type {\n",
       "        vertical-align: middle;\n",
       "    }\n",
       "\n",
       "    .dataframe tbody tr th {\n",
       "        vertical-align: top;\n",
       "    }\n",
       "\n",
       "    .dataframe thead th {\n",
       "        text-align: right;\n",
       "    }\n",
       "</style>\n",
       "<table border=\"1\" class=\"dataframe\">\n",
       "  <thead>\n",
       "    <tr style=\"text-align: right;\">\n",
       "      <th></th>\n",
       "      <th>Computer Time</th>\n",
       "      <th>Time (Milli Sec.)</th>\n",
       "      <th>GSR</th>\n",
       "      <th>BPM</th>\n",
       "      <th>Temperature</th>\n",
       "      <th>EMOTIONAL AFFIRM</th>\n",
       "    </tr>\n",
       "  </thead>\n",
       "  <tbody>\n",
       "    <tr>\n",
       "      <th>0</th>\n",
       "      <td>23:17:28</td>\n",
       "      <td>612253.0</td>\n",
       "      <td>343.0</td>\n",
       "      <td>110.0</td>\n",
       "      <td>37.11</td>\n",
       "      <td>HAPPY</td>\n",
       "    </tr>\n",
       "    <tr>\n",
       "      <th>1</th>\n",
       "      <td>22:55:53</td>\n",
       "      <td>434116.0</td>\n",
       "      <td>544.0</td>\n",
       "      <td>120.0</td>\n",
       "      <td>28.81</td>\n",
       "      <td>HAPPY</td>\n",
       "    </tr>\n",
       "    <tr>\n",
       "      <th>2</th>\n",
       "      <td>23:18:54</td>\n",
       "      <td>697949.0</td>\n",
       "      <td>341.0</td>\n",
       "      <td>104.0</td>\n",
       "      <td>25.88</td>\n",
       "      <td>HAPPY</td>\n",
       "    </tr>\n",
       "    <tr>\n",
       "      <th>3</th>\n",
       "      <td>22:40:08</td>\n",
       "      <td>279136.0</td>\n",
       "      <td>497.0</td>\n",
       "      <td>94.0</td>\n",
       "      <td>25.88</td>\n",
       "      <td>HAPPY</td>\n",
       "    </tr>\n",
       "    <tr>\n",
       "      <th>4</th>\n",
       "      <td>22:56:00</td>\n",
       "      <td>441222.0</td>\n",
       "      <td>545.0</td>\n",
       "      <td>115.0</td>\n",
       "      <td>24.90</td>\n",
       "      <td>HAPPY</td>\n",
       "    </tr>\n",
       "  </tbody>\n",
       "</table>\n",
       "</div>"
      ],
      "text/plain": [
       "  Computer Time  Time (Milli Sec.)    GSR    BPM  Temperature EMOTIONAL AFFIRM\n",
       "0      23:17:28           612253.0  343.0  110.0        37.11            HAPPY\n",
       "1      22:55:53           434116.0  544.0  120.0        28.81            HAPPY\n",
       "2      23:18:54           697949.0  341.0  104.0        25.88            HAPPY\n",
       "3      22:40:08           279136.0  497.0   94.0        25.88            HAPPY\n",
       "4      22:56:00           441222.0  545.0  115.0        24.90            HAPPY"
      ]
     },
     "execution_count": 7,
     "metadata": {},
     "output_type": "execute_result"
    }
   ],
   "source": [
    "#head\n",
    "df.head()"
   ]
  },
  {
   "cell_type": "code",
   "execution_count": 8,
   "metadata": {},
   "outputs": [
    {
     "data": {
      "text/plain": [
       "array(['HAPPY', 'SAD', 'RELAXED', 'ANGRY'], dtype=object)"
      ]
     },
     "execution_count": 8,
     "metadata": {},
     "output_type": "execute_result"
    }
   ],
   "source": [
    "df['EMOTIONAL AFFIRM'].unique()"
   ]
  },
  {
   "cell_type": "code",
   "execution_count": 9,
   "metadata": {},
   "outputs": [
    {
     "name": "stderr",
     "output_type": "stream",
     "text": [
      "C:\\Users\\Duleshwar\\anaconda3\\lib\\site-packages\\seaborn\\_decorators.py:36: FutureWarning: Pass the following variable as a keyword arg: x. From version 0.12, the only valid positional argument will be `data`, and passing other arguments without an explicit keyword will result in an error or misinterpretation.\n",
      "  warnings.warn(\n"
     ]
    },
    {
     "data": {
      "image/png": "[encoded data removed]",
      "text/plain": [
       "<Figure size 432x216 with 1 Axes>"
      ]
     },
     "metadata": {
      "needs_background": "light"
     },
     "output_type": "display_data"
    }
   ],
   "source": [
    "plt.figure(figsize = (6,3))\n",
    "sns.countplot(df['EMOTIONAL AFFIRM'])\n",
    "plt.show()"
   ]
  },
  {
   "cell_type": "code",
   "execution_count": 10,
   "metadata": {},
   "outputs": [
    {
     "data": {
      "text/plain": [
       "HAPPY      5339\n",
       "RELAXED     782\n",
       "SAD         724\n",
       "ANGRY       137\n",
       "Name: EMOTIONAL AFFIRM, dtype: int64"
      ]
     },
     "execution_count": 10,
     "metadata": {},
     "output_type": "execute_result"
    }
   ],
   "source": [
    "df['EMOTIONAL AFFIRM'].value_counts()"
   ]
  },
  {
   "cell_type": "code",
   "execution_count": 11,
   "metadata": {},
   "outputs": [
    {
     "data": {
      "text/plain": [
       "Computer Time        0\n",
       "Time (Milli Sec.)    0\n",
       "GSR                  0\n",
       "BPM                  0\n",
       "Temperature          0\n",
       "EMOTIONAL AFFIRM     0\n",
       "dtype: int64"
      ]
     },
     "execution_count": 11,
     "metadata": {},
     "output_type": "execute_result"
    }
   ],
   "source": [
    "df.isnull().sum() #no missing values"
   ]
  },
  {
   "cell_type": "code",
   "execution_count": 12,
   "metadata": {},
   "outputs": [],
   "source": [
    "#split into features and labels sets\n",
    "#X = df.drop(['Computer Time','EMOTIONAL AFFIRM'],axis = 1) #features\n",
    "#y = df['EMOTIONAL AFFIRM'] #labels"
   ]
  },
  {
   "cell_type": "code",
   "execution_count": 13,
   "metadata": {},
   "outputs": [],
   "source": [
    "label_mapping = {'RELAXED': 0, 'SAD': 1, 'HAPPY': 2,'ANGRY' : 3}"
   ]
  },
  {
   "cell_type": "code",
   "execution_count": 14,
   "metadata": {},
   "outputs": [],
   "source": [
    "def preprocess_inputs(df):\n",
    "    df = df.copy()\n",
    "    \n",
    "    df['EMOTIONAL AFFIRM'] = df['EMOTIONAL AFFIRM'].replace(label_mapping)\n",
    "    \n",
    "    y = df['EMOTIONAL AFFIRM'].copy()\n",
    "    X = df.drop(['Computer Time','EMOTIONAL AFFIRM'],axis = 1).copy()\n",
    "    \n",
    "    X_train, X_test, y_train, y_test = train_test_split(X, y, train_size=0.7, random_state=123)\n",
    "    \n",
    "    return X_train, X_test, y_train, y_test\n"
   ]
  },
  {
   "cell_type": "code",
   "execution_count": 15,
   "metadata": {},
   "outputs": [],
   "source": [
    "X_train, X_test, y_train, y_test = preprocess_inputs(df)"
   ]
  },
  {
   "cell_type": "code",
   "execution_count": 16,
   "metadata": {},
   "outputs": [
    {
     "data": {
      "text/html": [
       "<div>\n",
       "<style scoped>\n",
       "    .dataframe tbody tr th:only-of-type {\n",
       "        vertical-align: middle;\n",
       "    }\n",
       "\n",
       "    .dataframe tbody tr th {\n",
       "        vertical-align: top;\n",
       "    }\n",
       "\n",
       "    .dataframe thead th {\n",
       "        text-align: right;\n",
       "    }\n",
       "</style>\n",
       "<table border=\"1\" class=\"dataframe\">\n",
       "  <thead>\n",
       "    <tr style=\"text-align: right;\">\n",
       "      <th></th>\n",
       "      <th>Time (Milli Sec.)</th>\n",
       "      <th>GSR</th>\n",
       "      <th>BPM</th>\n",
       "      <th>Temperature</th>\n",
       "    </tr>\n",
       "  </thead>\n",
       "  <tbody>\n",
       "    <tr>\n",
       "      <th>4466</th>\n",
       "      <td>422933.0</td>\n",
       "      <td>546.0</td>\n",
       "      <td>114.0</td>\n",
       "      <td>33.69</td>\n",
       "    </tr>\n",
       "    <tr>\n",
       "      <th>2408</th>\n",
       "      <td>313997.0</td>\n",
       "      <td>532.0</td>\n",
       "      <td>101.0</td>\n",
       "      <td>20.02</td>\n",
       "    </tr>\n",
       "    <tr>\n",
       "      <th>6065</th>\n",
       "      <td>519535.0</td>\n",
       "      <td>349.0</td>\n",
       "      <td>99.0</td>\n",
       "      <td>35.16</td>\n",
       "    </tr>\n",
       "    <tr>\n",
       "      <th>2763</th>\n",
       "      <td>378392.0</td>\n",
       "      <td>585.0</td>\n",
       "      <td>80.0</td>\n",
       "      <td>24.41</td>\n",
       "    </tr>\n",
       "    <tr>\n",
       "      <th>3816</th>\n",
       "      <td>952453.0</td>\n",
       "      <td>348.0</td>\n",
       "      <td>110.0</td>\n",
       "      <td>23.44</td>\n",
       "    </tr>\n",
       "    <tr>\n",
       "      <th>...</th>\n",
       "      <td>...</td>\n",
       "      <td>...</td>\n",
       "      <td>...</td>\n",
       "      <td>...</td>\n",
       "    </tr>\n",
       "    <tr>\n",
       "      <th>5225</th>\n",
       "      <td>185270.0</td>\n",
       "      <td>506.0</td>\n",
       "      <td>92.0</td>\n",
       "      <td>19.04</td>\n",
       "    </tr>\n",
       "    <tr>\n",
       "      <th>4066</th>\n",
       "      <td>36079.0</td>\n",
       "      <td>488.0</td>\n",
       "      <td>84.0</td>\n",
       "      <td>23.44</td>\n",
       "    </tr>\n",
       "    <tr>\n",
       "      <th>1348</th>\n",
       "      <td>247444.0</td>\n",
       "      <td>496.0</td>\n",
       "      <td>72.0</td>\n",
       "      <td>20.02</td>\n",
       "    </tr>\n",
       "    <tr>\n",
       "      <th>3460</th>\n",
       "      <td>384521.0</td>\n",
       "      <td>546.0</td>\n",
       "      <td>94.0</td>\n",
       "      <td>23.44</td>\n",
       "    </tr>\n",
       "    <tr>\n",
       "      <th>3588</th>\n",
       "      <td>80634.0</td>\n",
       "      <td>493.0</td>\n",
       "      <td>86.0</td>\n",
       "      <td>33.69</td>\n",
       "    </tr>\n",
       "  </tbody>\n",
       "</table>\n",
       "<p>4887 rows × 4 columns</p>\n",
       "</div>"
      ],
      "text/plain": [
       "      Time (Milli Sec.)    GSR    BPM  Temperature\n",
       "4466           422933.0  546.0  114.0        33.69\n",
       "2408           313997.0  532.0  101.0        20.02\n",
       "6065           519535.0  349.0   99.0        35.16\n",
       "2763           378392.0  585.0   80.0        24.41\n",
       "3816           952453.0  348.0  110.0        23.44\n",
       "...                 ...    ...    ...          ...\n",
       "5225           185270.0  506.0   92.0        19.04\n",
       "4066            36079.0  488.0   84.0        23.44\n",
       "1348           247444.0  496.0   72.0        20.02\n",
       "3460           384521.0  546.0   94.0        23.44\n",
       "3588            80634.0  493.0   86.0        33.69\n",
       "\n",
       "[4887 rows x 4 columns]"
      ]
     },
     "execution_count": 16,
     "metadata": {},
     "output_type": "execute_result"
    }
   ],
   "source": [
    "X_train"
   ]
  },
  {
   "cell_type": "code",
   "execution_count": 17,
   "metadata": {},
   "outputs": [],
   "source": [
    "import numpy as np\n",
    "\n",
    "import pandas as pd\n",
    "\n",
    "import matplotlib.pyplot as plt\n",
    "\n",
    "import seaborn as sns\n",
    "\n",
    "from sklearn.model_selection import train_test_split\n",
    "\n",
    "import tensorflow as tf\n",
    "\n",
    "from sklearn.metrics import confusion_matrix, classification_report"
   ]
  },
  {
   "cell_type": "code",
   "execution_count": 18,
   "metadata": {},
   "outputs": [
    {
     "name": "stdout",
     "output_type": "stream",
     "text": [
      "Model: \"model\"\n",
      "_________________________________________________________________\n",
      " Layer (type)                Output Shape              Param #   \n",
      "=================================================================\n",
      " input_1 (InputLayer)        [(None, 4)]               0         \n",
      "                                                                 \n",
      " tf.expand_dims (TFOpLambda)  (None, 4, 1)             0         \n",
      "                                                                 \n",
      " gru (GRU)                   (None, 4, 256)            198912    \n",
      "                                                                 \n",
      " flatten (Flatten)           (None, 1024)              0         \n",
      "                                                                 \n",
      " dense (Dense)               (None, 4)                 4100      \n",
      "                                                                 \n",
      "=================================================================\n",
      "Total params: 203,012\n",
      "Trainable params: 203,012\n",
      "Non-trainable params: 0\n",
      "_________________________________________________________________\n",
      "None\n"
     ]
    }
   ],
   "source": [
    "inputs = tf.keras.Input(shape=(X_train.shape[1],))\n",
    "\n",
    "expand_dims = tf.expand_dims(inputs, axis=2)\n",
    "\n",
    "gru = tf.keras.layers.GRU(256, return_sequences=True)(expand_dims)\n",
    "\n",
    "flatten = tf.keras.layers.Flatten()(gru)\n",
    "\n",
    "outputs = tf.keras.layers.Dense(4, activation='softmax')(flatten)\n",
    "\n",
    "\n",
    "model = tf.keras.Model(inputs=inputs, outputs=outputs)\n",
    "print(model.summary())"
   ]
  },
  {
   "cell_type": "code",
   "execution_count": 19,
   "metadata": {},
   "outputs": [
    {
     "name": "stdout",
     "output_type": "stream",
     "text": [
      "Epoch 1/50\n",
      "123/123 [==============================] - 6s 19ms/step - loss: 0.5712 - accuracy: 0.8143 - val_loss: 0.3120 - val_accuracy: 0.9090\n",
      "Epoch 2/50\n",
      "123/123 [==============================] - 2s 12ms/step - loss: 0.2226 - accuracy: 0.9184 - val_loss: 0.1508 - val_accuracy: 0.9335\n",
      "Epoch 3/50\n",
      "123/123 [==============================] - 2s 13ms/step - loss: 0.1938 - accuracy: 0.9169 - val_loss: 0.2532 - val_accuracy: 0.8845\n",
      "Epoch 4/50\n",
      "123/123 [==============================] - 1s 12ms/step - loss: 0.1181 - accuracy: 0.9517 - val_loss: 0.1309 - val_accuracy: 0.9346\n",
      "Epoch 5/50\n",
      "123/123 [==============================] - 2s 13ms/step - loss: 0.1378 - accuracy: 0.9419 - val_loss: 0.1038 - val_accuracy: 0.9417\n",
      "Epoch 6/50\n",
      "123/123 [==============================] - 1s 12ms/step - loss: 0.1437 - accuracy: 0.9371 - val_loss: 0.0876 - val_accuracy: 0.9652\n",
      "Epoch 7/50\n",
      "123/123 [==============================] - 2s 13ms/step - loss: 0.1136 - accuracy: 0.9532 - val_loss: 0.0790 - val_accuracy: 0.9652\n",
      "Epoch 8/50\n",
      "123/123 [==============================] - 1s 11ms/step - loss: 0.0980 - accuracy: 0.9596 - val_loss: 0.0552 - val_accuracy: 0.9806\n",
      "Epoch 9/50\n",
      "123/123 [==============================] - 2s 13ms/step - loss: 0.0990 - accuracy: 0.9596 - val_loss: 0.0922 - val_accuracy: 0.9652\n",
      "Epoch 10/50\n",
      "123/123 [==============================] - 2s 13ms/step - loss: 0.0971 - accuracy: 0.9540 - val_loss: 0.0568 - val_accuracy: 0.9765\n",
      "Epoch 11/50\n",
      "123/123 [==============================] - 2s 13ms/step - loss: 0.0932 - accuracy: 0.9601 - val_loss: 0.0408 - val_accuracy: 0.9990\n",
      "Epoch 12/50\n",
      "123/123 [==============================] - 2s 12ms/step - loss: 0.1102 - accuracy: 0.9491 - val_loss: 0.0717 - val_accuracy: 0.9519\n",
      "Epoch 13/50\n",
      "123/123 [==============================] - 2s 13ms/step - loss: 0.0985 - accuracy: 0.9570 - val_loss: 0.1446 - val_accuracy: 0.9335\n",
      "Epoch 14/50\n",
      "123/123 [==============================] - 2s 13ms/step - loss: 0.0742 - accuracy: 0.9683 - val_loss: 0.1865 - val_accuracy: 0.9182\n",
      "Epoch 15/50\n",
      "123/123 [==============================] - 2s 13ms/step - loss: 0.0789 - accuracy: 0.9652 - val_loss: 0.1453 - val_accuracy: 0.9294\n",
      "Epoch 16/50\n",
      "123/123 [==============================] - 2s 13ms/step - loss: 0.1453 - accuracy: 0.9524 - val_loss: 0.0490 - val_accuracy: 0.9816\n",
      "Epoch 17/50\n",
      "123/123 [==============================] - 2s 13ms/step - loss: 0.0892 - accuracy: 0.9634 - val_loss: 0.1325 - val_accuracy: 0.9335\n",
      "Epoch 18/50\n",
      "123/123 [==============================] - 2s 13ms/step - loss: 0.0909 - accuracy: 0.9634 - val_loss: 0.1280 - val_accuracy: 0.9438\n",
      "Epoch 19/50\n",
      "123/123 [==============================] - 2s 13ms/step - loss: 0.1072 - accuracy: 0.9644 - val_loss: 0.0354 - val_accuracy: 0.9969\n",
      "Epoch 20/50\n",
      "123/123 [==============================] - 2s 12ms/step - loss: 0.0939 - accuracy: 0.9660 - val_loss: 0.0937 - val_accuracy: 0.9611\n",
      "Epoch 21/50\n",
      "123/123 [==============================] - 2s 13ms/step - loss: 0.0853 - accuracy: 0.9665 - val_loss: 0.2209 - val_accuracy: 0.9182\n",
      "Epoch 22/50\n",
      "123/123 [==============================] - 2s 13ms/step - loss: 0.0803 - accuracy: 0.9675 - val_loss: 0.1115 - val_accuracy: 0.9611\n",
      "Epoch 23/50\n",
      "123/123 [==============================] - 2s 13ms/step - loss: 0.1202 - accuracy: 0.9519 - val_loss: 0.0669 - val_accuracy: 0.9489\n",
      "Epoch 24/50\n",
      "123/123 [==============================] - 2s 13ms/step - loss: 0.1078 - accuracy: 0.9550 - val_loss: 0.0569 - val_accuracy: 0.9826\n",
      "Epoch 25/50\n",
      "123/123 [==============================] - 2s 13ms/step - loss: 0.0713 - accuracy: 0.9685 - val_loss: 0.0347 - val_accuracy: 0.9939\n",
      "Epoch 26/50\n",
      "123/123 [==============================] - 2s 13ms/step - loss: 0.0918 - accuracy: 0.9611 - val_loss: 0.0730 - val_accuracy: 0.9663\n",
      "Epoch 27/50\n",
      "123/123 [==============================] - 2s 13ms/step - loss: 0.1194 - accuracy: 0.9501 - val_loss: 0.0759 - val_accuracy: 0.9724\n",
      "Epoch 28/50\n",
      "123/123 [==============================] - 2s 12ms/step - loss: 0.1431 - accuracy: 0.9442 - val_loss: 0.0604 - val_accuracy: 0.9581\n",
      "Epoch 29/50\n",
      "123/123 [==============================] - 2s 13ms/step - loss: 0.0908 - accuracy: 0.9647 - val_loss: 0.0518 - val_accuracy: 0.9908\n",
      "Epoch 30/50\n",
      "123/123 [==============================] - 2s 13ms/step - loss: 0.0596 - accuracy: 0.9742 - val_loss: 0.0313 - val_accuracy: 0.9949\n",
      "Epoch 31/50\n",
      "123/123 [==============================] - 2s 13ms/step - loss: 0.0763 - accuracy: 0.9665 - val_loss: 0.1838 - val_accuracy: 0.9162\n",
      "Epoch 32/50\n",
      "123/123 [==============================] - 2s 13ms/step - loss: 0.1151 - accuracy: 0.9552 - val_loss: 0.0426 - val_accuracy: 0.9806\n",
      "Epoch 33/50\n",
      "123/123 [==============================] - 2s 13ms/step - loss: 0.0879 - accuracy: 0.9652 - val_loss: 0.1279 - val_accuracy: 0.9468\n",
      "Epoch 34/50\n",
      "123/123 [==============================] - 2s 13ms/step - loss: 0.0695 - accuracy: 0.9739 - val_loss: 0.0750 - val_accuracy: 0.9560\n",
      "Epoch 35/50\n",
      "123/123 [==============================] - 2s 13ms/step - loss: 0.0466 - accuracy: 0.9803 - val_loss: 0.3218 - val_accuracy: 0.9202\n",
      "Epoch 36/50\n",
      "123/123 [==============================] - 2s 13ms/step - loss: 0.0961 - accuracy: 0.9629 - val_loss: 0.0864 - val_accuracy: 0.9468\n",
      "Epoch 37/50\n",
      "123/123 [==============================] - 2s 13ms/step - loss: 0.0590 - accuracy: 0.9749 - val_loss: 0.0275 - val_accuracy: 0.9959\n",
      "Epoch 38/50\n",
      "123/123 [==============================] - 2s 13ms/step - loss: 0.0781 - accuracy: 0.9696 - val_loss: 0.4348 - val_accuracy: 0.8967\n",
      "Epoch 39/50\n",
      "123/123 [==============================] - 2s 13ms/step - loss: 0.1026 - accuracy: 0.9621 - val_loss: 0.1252 - val_accuracy: 0.9601\n",
      "Epoch 40/50\n",
      "123/123 [==============================] - 2s 13ms/step - loss: 0.0609 - accuracy: 0.9749 - val_loss: 0.0264 - val_accuracy: 0.9990\n",
      "Epoch 41/50\n",
      "123/123 [==============================] - 2s 13ms/step - loss: 0.0799 - accuracy: 0.9690 - val_loss: 0.1194 - val_accuracy: 0.9611\n",
      "Epoch 42/50\n",
      "123/123 [==============================] - 2s 13ms/step - loss: 0.1058 - accuracy: 0.9545 - val_loss: 0.0796 - val_accuracy: 0.9683\n",
      "Epoch 43/50\n",
      "123/123 [==============================] - 2s 13ms/step - loss: 0.0631 - accuracy: 0.9734 - val_loss: 0.0504 - val_accuracy: 0.9836\n",
      "Epoch 44/50\n",
      "123/123 [==============================] - 2s 13ms/step - loss: 0.0643 - accuracy: 0.9749 - val_loss: 0.1067 - val_accuracy: 0.9509\n",
      "Epoch 45/50\n",
      "123/123 [==============================] - 2s 13ms/step - loss: 0.0989 - accuracy: 0.9642 - val_loss: 0.0309 - val_accuracy: 0.9877\n",
      "Epoch 46/50\n",
      "123/123 [==============================] - 2s 13ms/step - loss: 0.0686 - accuracy: 0.9729 - val_loss: 0.1504 - val_accuracy: 0.9509\n",
      "Epoch 47/50\n",
      "123/123 [==============================] - 1s 12ms/step - loss: 0.0455 - accuracy: 0.9829 - val_loss: 0.0518 - val_accuracy: 0.9785\n",
      "Epoch 48/50\n",
      "123/123 [==============================] - 1s 12ms/step - loss: 0.0377 - accuracy: 0.9872 - val_loss: 0.0894 - val_accuracy: 0.9560\n",
      "Epoch 49/50\n",
      "123/123 [==============================] - 2s 13ms/step - loss: 0.0893 - accuracy: 0.9657 - val_loss: 0.2434 - val_accuracy: 0.9294\n",
      "Epoch 50/50\n",
      "123/123 [==============================] - 2s 13ms/step - loss: 0.0835 - accuracy: 0.9690 - val_loss: 0.0424 - val_accuracy: 0.9683\n"
     ]
    }
   ],
   "source": [
    "model.compile(\n",
    "    optimizer='adam',\n",
    "    loss='sparse_categorical_crossentropy',\n",
    "    metrics=['accuracy']\n",
    ")\n",
    "\n",
    "history = model.fit(\n",
    "    X_train,\n",
    "    y_train,\n",
    "    validation_split=0.2,\n",
    "    batch_size=32,\n",
    "    epochs=50,\n",
    "    \n",
    "    \n",
    ")"
   ]
  },
  {
   "cell_type": "code",
   "execution_count": 20,
   "metadata": {},
   "outputs": [
    {
     "name": "stdout",
     "output_type": "stream",
     "text": [
      "Test Accuracy: 96.325%\n"
     ]
    }
   ],
   "source": [
    "model_acc = model.evaluate(X_test, y_test, verbose=0)[1]\n",
    "print(\"Test Accuracy: {:.3f}%\".format(model_acc * 100))"
   ]
  },
  {
   "cell_type": "code",
   "execution_count": 21,
   "metadata": {},
   "outputs": [
    {
     "name": "stdout",
     "output_type": "stream",
     "text": [
      "              precision    recall  f1-score   support\n",
      "\n",
      "           0       1.00      0.84      0.91       247\n",
      "           1       0.84      0.92      0.88       221\n",
      "           2       0.98      1.00      0.99      1580\n",
      "           3       1.00      0.55      0.71        47\n",
      "\n",
      "    accuracy                           0.96      2095\n",
      "   macro avg       0.95      0.83      0.87      2095\n",
      "weighted avg       0.97      0.96      0.96      2095\n",
      "\n"
     ]
    }
   ],
   "source": [
    "y_pred = np.array(list(map(lambda x: np.argmax(x), model.predict(X_test))))\n",
    "print(classification_report(y_test, y_pred))"
   ]
  },
  {
   "cell_type": "code",
   "execution_count": 22,
   "metadata": {},
   "outputs": [
    {
     "data": {
      "image/png": "[encoded data removed]",
      "text/plain": [
       "<Figure size 576x576 with 1 Axes>"
      ]
     },
     "metadata": {
      "needs_background": "light"
     },
     "output_type": "display_data"
    }
   ],
   "source": [
    "cm = confusion_matrix(y_test, y_pred)\n",
    "clr = classification_report(y_test, y_pred, target_names=label_mapping.keys())\n",
    "\n",
    "plt.figure(figsize=(8, 8))\n",
    "sns.heatmap(cm, annot=True, vmin=0, fmt='g', cbar=False, cmap='Blues')\n",
    "plt.xticks(np.arange(4) + 0.5, label_mapping.keys())\n",
    "plt.yticks(np.arange(4) + 0.5, label_mapping.keys())\n",
    "plt.xlabel(\"Predicted\")\n",
    "plt.ylabel(\"Actual\")\n",
    "plt.title(\"Confusion Matrix\")\n",
    "plt.show()"
   ]
  },
  {
   "cell_type": "code",
   "execution_count": 23,
   "metadata": {},
   "outputs": [
    {
     "data": {
      "image/png": "[encoded data removed]",
      "text/plain": [
       "<Figure size 432x288 with 1 Axes>"
      ]
     },
     "metadata": {
      "needs_background": "light"
     },
     "output_type": "display_data"
    }
   ],
   "source": [
    "plt.plot(history.history['loss'])\n",
    "plt.plot(history.history['val_loss'])\n",
    "plt.title('model loss')\n",
    "plt.ylabel('loss')\n",
    "plt.xlabel('epoch')\n",
    "plt.legend(['train', 'test'], loc='upper left')\n",
    "plt.savefig('Pictures/Loss_Model.png') \n",
    "plt.show()"
   ]
  },
  {
   "cell_type": "code",
   "execution_count": 24,
   "metadata": {},
   "outputs": [
    {
     "data": {
      "image/png": "[encoded data removed]",
      "text/plain": [
       "<Figure size 432x288 with 1 Axes>"
      ]
     },
     "metadata": {
      "needs_background": "light"
     },
     "output_type": "display_data"
    }
   ],
   "source": [
    "plt.plot(history.history['accuracy'])\n",
    "plt.plot(history.history['val_accuracy'])\n",
    "plt.title('model accuracy')\n",
    "plt.ylabel('accuracy')\n",
    "plt.xlabel('epoch')\n",
    "plt.legend(['train', 'test'], loc='upper left')\n",
    "\n",
    "plt.savefig('Pictures/Accuracy_Model.png') \n",
    "plt.show()"
   ]
  },
  {
   "cell_type": "code",
   "execution_count": null,
   "metadata": {},
   "outputs": [],
   "source": []
  }
 ],
 "metadata": {
  "kernelspec": {
   "display_name": "Python 3 (ipykernel)",
   "language": "python",
   "name": "python3"
  },
  "language_info": {
   "codemirror_mode": {
    "name": "ipython",
    "version": 3
   },
   "file_extension": ".py",
   "mimetype": "text/x-python",
   "name": "python",
   "nbconvert_exporter": "python",
   "pygments_lexer": "ipython3",
   "version": "3.9.7"
  }
 },
 "nbformat": 4,
 "nbformat_minor": 2
}
